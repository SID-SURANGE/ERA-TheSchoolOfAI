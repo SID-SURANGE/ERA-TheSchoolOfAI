{
  "cells": [
    {
      "attachments": {},
      "cell_type": "markdown",
      "metadata": {
        "id": "UrR0j9mbexlE"
      },
      "source": [
        "<h3><i><b> PYTORCH - Training on MNIST Dataset </h3>\n",
        "<h4> Session 6 </h4>\n"
      ]
    },
    {
      "attachments": {},
      "cell_type": "markdown",
      "metadata": {
        "id": "R1jNR_PxeO7i"
      },
      "source": [
        "### Imports <hr>"
      ]
    },
    {
      "cell_type": "code",
      "execution_count": 1,
      "metadata": {
        "colab": {
          "base_uri": "https://localhost:8080/"
        },
        "id": "6PlbomWY3RSq",
        "outputId": "535b8b16-a06f-4212-d950-b6dc88fa47fc"
      },
      "outputs": [],
      "source": [
        "# Pytorch imports\n",
        "import torch\n",
        "import torch.nn as nn\n",
        "import torch.nn.functional as F\n",
        "import torch.optim as optim\n",
        "from torchvision import datasets, transforms\n",
        "#!pip install torchsummary\n",
        "from torchsummary import summary\n",
        "\n",
        "# Loading classes from py files\n",
        "from model import Net, ModelTraining\n",
        "from utils import Utility"
      ]
    },
    {
      "attachments": {},
      "cell_type": "markdown",
      "metadata": {
        "id": "xisWapoFf6yR"
      },
      "source": [
        "Class Object Initialization"
      ]
    },
    {
      "cell_type": "code",
      "execution_count": 2,
      "metadata": {
        "id": "qb22q96yaq7W"
      },
      "outputs": [],
      "source": [
        "# creating class objects\n",
        "get_utilitites= Utility()\n",
        "\n",
        "model_train = ModelTraining()"
      ]
    },
    {
      "attachments": {},
      "cell_type": "markdown",
      "metadata": {
        "id": "xz0tsOOteUc9"
      },
      "source": [
        "##### Check device support CPU/GPU <hr> "
      ]
    },
    {
      "cell_type": "code",
      "execution_count": 3,
      "metadata": {
        "colab": {
          "base_uri": "https://localhost:8080/"
        },
        "id": "94BxVVBP3WwS",
        "outputId": "8cb20bb7-dcb8-428e-92b6-1643a1c51ccf"
      },
      "outputs": [
        {
          "name": "stdout",
          "output_type": "stream",
          "text": [
            "CUDA Available? <function is_available at 0x00000225BDA4DB40>\n",
            "Device available for the script - cuda\n"
          ]
        }
      ],
      "source": [
        "device = Utility.set_cuda_if_available()\n",
        "print(f'Device available for the script - {device}')"
      ]
    },
    {
      "attachments": {},
      "cell_type": "markdown",
      "metadata": {
        "id": "Re3hOkJLecrN"
      },
      "source": [
        "##### Define dataset class for creating train/test loaders <hr>\n"
      ]
    },
    {
      "cell_type": "code",
      "execution_count": 4,
      "metadata": {
        "id": "KpshQ2Ug38m2"
      },
      "outputs": [],
      "source": [
        "class Dataset():\n",
        "    \"\"\"\n",
        "    This class defines the train/test transforms for our CNN model for MNIST dataset\n",
        "    \"\"\"\n",
        "    def __init__(self, batch_size):\n",
        "        \n",
        "        self.batch_size = batch_size\n",
        "        self.kwargs = {'batch_size': batch_size, 'shuffle': True, 'num_workers': 2, 'pin_memory': True}\n",
        "\n",
        "        self.train_transforms = transforms.Compose([\n",
        "            transforms.RandomApply([transforms.CenterCrop(22), ], p=0.1),\n",
        "            transforms.Resize((28, 28)),\n",
        "            transforms.RandomRotation((-15., 15.), fill=0),\n",
        "            transforms.ToTensor(),\n",
        "            transforms.Normalize((0.1307,), (0.3081,)),\n",
        "            ])\n",
        "\n",
        "        # Test data transformations\n",
        "        self.test_transforms = transforms.Compose([\n",
        "            transforms.ToTensor(),\n",
        "            transforms.Normalize((0.1307,), (0.3081,))\n",
        "            ])\n",
        "\n",
        "    def train_loader(self):\n",
        "        return torch.utils.data.DataLoader(datasets.MNIST('../data', train=True, download=True, transform=self.train_transforms), **self.kwargs) \n",
        "\n",
        "    def test_loader(self):\n",
        "        return torch.utils.data.DataLoader(datasets.MNIST('../data', train=False, download=True, transform=self.test_transforms), **self.kwargs) "
      ]
    },
    {
      "attachments": {},
      "cell_type": "markdown",
      "metadata": {
        "id": "XJW6ru0sf7AN"
      },
      "source": [
        "##### Create Batch loader for train/test dataset  <hr>"
      ]
    },
    {
      "cell_type": "code",
      "execution_count": 5,
      "metadata": {
        "id": "QOuXZ0NUi27G"
      },
      "outputs": [],
      "source": [
        "get_data = Dataset(batch_size=256)\n",
        "\n",
        "train_loader = get_data.train_loader()\n",
        "test_loader = get_data.test_loader()"
      ]
    },
    {
      "cell_type": "code",
      "execution_count": 6,
      "metadata": {
        "colab": {
          "base_uri": "https://localhost:8080/"
        },
        "id": "Lpd2chAAa0mP",
        "outputId": "ad627de6-c236-447d-9365-00a654cc6719"
      },
      "outputs": [
        {
          "name": "stdout",
          "output_type": "stream",
          "text": [
            "Shape of the batch - torch.Size([256, 1, 28, 28])\n",
            "Total images in the batch - 256\n"
          ]
        }
      ],
      "source": [
        "# Analyze the first batch of 512 images\n",
        "images, labels = next(iter(train_loader))\n",
        "print(f'Shape of the batch - {images.shape}')\n",
        "print(f'Total images in the batch - {len(labels)}')"
      ]
    },
    {
      "attachments": {},
      "cell_type": "markdown",
      "metadata": {
        "id": "JCq3nqIAhLSQ"
      },
      "source": [
        "##### View sample images from the train loader  <hr>\n",
        "\n"
      ]
    },
    {
      "cell_type": "code",
      "execution_count": 7,
      "metadata": {
        "colab": {
          "base_uri": "https://localhost:8080/",
          "height": 463
        },
        "id": "Hx7QkLcw4Epc",
        "outputId": "e05fe4e6-b54c-4304-b52c-a9484b1e527e"
      },
      "outputs": [
        {
          "data": {
            "image/png": "[encoded data removed]",
            "text/plain": [
              "<Figure size 640x480 with 12 Axes>"
            ]
          },
          "metadata": {},
          "output_type": "display_data"
        }
      ],
      "source": [
        "get_utilitites.plot_grid(train_loader)"
      ]
    },
    {
      "attachments": {},
      "cell_type": "markdown",
      "metadata": {
        "id": "8_nwbCWxhXTG"
      },
      "source": [
        "##### CNN Model summary  <hr>\n"
      ]
    },
    {
      "cell_type": "code",
      "execution_count": 22,
      "metadata": {},
      "outputs": [
        {
          "name": "stdout",
          "output_type": "stream",
          "text": [
            "----------------------------------------------------------------\n",
            "        Layer (type)               Output Shape         Param #\n",
            "================================================================\n",
            "            Conv2d-1            [-1, 8, 26, 26]              72\n",
            "       BatchNorm2d-2            [-1, 8, 26, 26]              16\n",
            "            Conv2d-3           [-1, 16, 24, 24]           1,152\n",
            "       BatchNorm2d-4           [-1, 16, 24, 24]              32\n",
            "           Dropout-5           [-1, 16, 24, 24]               0\n",
            "         MaxPool2d-6           [-1, 16, 12, 12]               0\n",
            "            Conv2d-7            [-1, 8, 12, 12]             128\n",
            "       BatchNorm2d-8            [-1, 8, 12, 12]              16\n",
            "            Conv2d-9           [-1, 16, 10, 10]           1,152\n",
            "      BatchNorm2d-10           [-1, 16, 10, 10]              32\n",
            "          Dropout-11           [-1, 16, 10, 10]               0\n",
            "        MaxPool2d-12             [-1, 16, 5, 5]               0\n",
            "           Conv2d-13             [-1, 16, 5, 5]             256\n",
            "      BatchNorm2d-14             [-1, 16, 5, 5]              32\n",
            "           Conv2d-15             [-1, 10, 3, 3]           1,440\n",
            "        AvgPool2d-16             [-1, 10, 1, 1]               0\n",
            "================================================================\n",
            "Total params: 4,328\n",
            "Trainable params: 4,328\n",
            "Non-trainable params: 0\n",
            "----------------------------------------------------------------\n",
            "Input size (MB): 0.00\n",
            "Forward/backward pass size (MB): 0.38\n",
            "Params size (MB): 0.02\n",
            "Estimated Total Size (MB): 0.39\n",
            "----------------------------------------------------------------\n"
          ]
        }
      ],
      "source": [
        "model = Net().to(device)\n",
        "summary(model, input_size=(1, 28, 28))"
      ]
    },
    {
      "attachments": {},
      "cell_type": "markdown",
      "metadata": {
        "id": "pKaQwrQaiqtV"
      },
      "source": [
        "Model training\n",
        "\n",
        "---\n"
      ]
    },
    {
      "cell_type": "code",
      "execution_count": 23,
      "metadata": {
        "colab": {
          "base_uri": "https://localhost:8080/"
        },
        "id": "Owqiet9M4TV7",
        "outputId": "2e87f766-a19c-476f-8617-a7fe462960fc"
      },
      "outputs": [
        {
          "name": "stdout",
          "output_type": "stream",
          "text": [
            "Adjusting learning rate of group 0 to 4.0000e-02.\n",
            "Epoch 1\n"
          ]
        },
        {
          "name": "stderr",
          "output_type": "stream",
          "text": [
            "Train: Loss=0.2649 Batch_id=234 Accuracy=85.97: 100%|██████████| 235/235 [00:10<00:00, 22.09it/s]\n"
          ]
        },
        {
          "name": "stdout",
          "output_type": "stream",
          "text": [
            "Test set: Average loss: 0.1252, Accuracy: 9628/10000 (96.28%)\n",
            "\n",
            "Adjusting learning rate of group 0 to 4.0000e-02.\n",
            "Epoch 2\n"
          ]
        },
        {
          "name": "stderr",
          "output_type": "stream",
          "text": [
            "Train: Loss=0.0746 Batch_id=234 Accuracy=96.06: 100%|██████████| 235/235 [00:10<00:00, 22.81it/s]\n"
          ]
        },
        {
          "name": "stdout",
          "output_type": "stream",
          "text": [
            "Test set: Average loss: 0.0971, Accuracy: 9708/10000 (97.08%)\n",
            "\n",
            "Adjusting learning rate of group 0 to 4.0000e-02.\n",
            "Epoch 3\n"
          ]
        },
        {
          "name": "stderr",
          "output_type": "stream",
          "text": [
            "Train: Loss=0.0580 Batch_id=234 Accuracy=97.02: 100%|██████████| 235/235 [00:10<00:00, 23.15it/s]\n"
          ]
        },
        {
          "name": "stdout",
          "output_type": "stream",
          "text": [
            "Test set: Average loss: 0.0842, Accuracy: 9765/10000 (97.65%)\n",
            "\n",
            "Adjusting learning rate of group 0 to 4.0000e-02.\n",
            "Epoch 4\n"
          ]
        },
        {
          "name": "stderr",
          "output_type": "stream",
          "text": [
            "Train: Loss=0.0740 Batch_id=234 Accuracy=97.36: 100%|██████████| 235/235 [00:10<00:00, 22.82it/s]\n"
          ]
        },
        {
          "name": "stdout",
          "output_type": "stream",
          "text": [
            "Test set: Average loss: 0.0690, Accuracy: 9800/10000 (98.00%)\n",
            "\n",
            "Adjusting learning rate of group 0 to 4.0000e-02.\n",
            "Epoch 5\n"
          ]
        },
        {
          "name": "stderr",
          "output_type": "stream",
          "text": [
            "Train: Loss=0.1100 Batch_id=234 Accuracy=97.58: 100%|██████████| 235/235 [00:10<00:00, 23.17it/s]\n"
          ]
        },
        {
          "name": "stdout",
          "output_type": "stream",
          "text": [
            "Test set: Average loss: 0.0630, Accuracy: 9816/10000 (98.16%)\n",
            "\n",
            "Adjusting learning rate of group 0 to 4.0000e-02.\n",
            "Epoch 6\n"
          ]
        },
        {
          "name": "stderr",
          "output_type": "stream",
          "text": [
            "Train: Loss=0.1221 Batch_id=234 Accuracy=97.78: 100%|██████████| 235/235 [00:10<00:00, 22.83it/s]\n"
          ]
        },
        {
          "name": "stdout",
          "output_type": "stream",
          "text": [
            "Test set: Average loss: 0.0653, Accuracy: 9790/10000 (97.90%)\n",
            "\n",
            "Adjusting learning rate of group 0 to 4.0000e-02.\n",
            "Epoch 7\n"
          ]
        },
        {
          "name": "stderr",
          "output_type": "stream",
          "text": [
            "Train: Loss=0.0393 Batch_id=234 Accuracy=97.94: 100%|██████████| 235/235 [00:10<00:00, 22.83it/s]\n"
          ]
        },
        {
          "name": "stdout",
          "output_type": "stream",
          "text": [
            "Test set: Average loss: 0.0415, Accuracy: 9876/10000 (98.76%)\n",
            "\n",
            "Adjusting learning rate of group 0 to 4.0000e-02.\n",
            "Epoch 8\n"
          ]
        },
        {
          "name": "stderr",
          "output_type": "stream",
          "text": [
            "Train: Loss=0.0491 Batch_id=234 Accuracy=98.02: 100%|██████████| 235/235 [00:10<00:00, 22.60it/s]\n"
          ]
        },
        {
          "name": "stdout",
          "output_type": "stream",
          "text": [
            "Test set: Average loss: 0.0507, Accuracy: 9837/10000 (98.37%)\n",
            "\n",
            "Adjusting learning rate of group 0 to 4.0000e-02.\n",
            "Epoch 9\n"
          ]
        },
        {
          "name": "stderr",
          "output_type": "stream",
          "text": [
            "Train: Loss=0.0648 Batch_id=234 Accuracy=98.03: 100%|██████████| 235/235 [00:10<00:00, 22.88it/s]\n"
          ]
        },
        {
          "name": "stdout",
          "output_type": "stream",
          "text": [
            "Test set: Average loss: 0.0451, Accuracy: 9872/10000 (98.72%)\n",
            "\n",
            "Adjusting learning rate of group 0 to 4.0000e-02.\n",
            "Epoch 10\n"
          ]
        },
        {
          "name": "stderr",
          "output_type": "stream",
          "text": [
            "Train: Loss=0.0151 Batch_id=234 Accuracy=98.14: 100%|██████████| 235/235 [00:10<00:00, 22.79it/s]\n"
          ]
        },
        {
          "name": "stdout",
          "output_type": "stream",
          "text": [
            "Test set: Average loss: 0.0349, Accuracy: 9891/10000 (98.91%)\n",
            "\n",
            "Adjusting learning rate of group 0 to 4.0000e-03.\n",
            "Epoch 11\n"
          ]
        },
        {
          "name": "stderr",
          "output_type": "stream",
          "text": [
            "Train: Loss=0.0476 Batch_id=234 Accuracy=98.32: 100%|██████████| 235/235 [00:10<00:00, 22.50it/s]\n"
          ]
        },
        {
          "name": "stdout",
          "output_type": "stream",
          "text": [
            "Test set: Average loss: 0.0359, Accuracy: 9886/10000 (98.86%)\n",
            "\n",
            "Adjusting learning rate of group 0 to 4.0000e-03.\n",
            "Epoch 12\n"
          ]
        },
        {
          "name": "stderr",
          "output_type": "stream",
          "text": [
            "Train: Loss=0.0765 Batch_id=234 Accuracy=98.44: 100%|██████████| 235/235 [00:10<00:00, 22.47it/s]\n"
          ]
        },
        {
          "name": "stdout",
          "output_type": "stream",
          "text": [
            "Test set: Average loss: 0.0360, Accuracy: 9889/10000 (98.89%)\n",
            "\n",
            "Adjusting learning rate of group 0 to 4.0000e-03.\n",
            "Epoch 13\n"
          ]
        },
        {
          "name": "stderr",
          "output_type": "stream",
          "text": [
            "Train: Loss=0.1470 Batch_id=234 Accuracy=98.44: 100%|██████████| 235/235 [00:10<00:00, 22.60it/s]\n"
          ]
        },
        {
          "name": "stdout",
          "output_type": "stream",
          "text": [
            "Test set: Average loss: 0.0359, Accuracy: 9899/10000 (98.99%)\n",
            "\n",
            "Adjusting learning rate of group 0 to 4.0000e-03.\n",
            "Epoch 14\n"
          ]
        },
        {
          "name": "stderr",
          "output_type": "stream",
          "text": [
            "Train: Loss=0.0277 Batch_id=234 Accuracy=98.42: 100%|██████████| 235/235 [00:10<00:00, 22.70it/s]\n"
          ]
        },
        {
          "name": "stdout",
          "output_type": "stream",
          "text": [
            "Test set: Average loss: 0.0347, Accuracy: 9900/10000 (99.00%)\n",
            "\n",
            "Adjusting learning rate of group 0 to 4.0000e-03.\n",
            "Epoch 15\n"
          ]
        },
        {
          "name": "stderr",
          "output_type": "stream",
          "text": [
            "Train: Loss=0.1053 Batch_id=234 Accuracy=98.49: 100%|██████████| 235/235 [00:10<00:00, 22.50it/s]\n"
          ]
        },
        {
          "name": "stdout",
          "output_type": "stream",
          "text": [
            "Test set: Average loss: 0.0346, Accuracy: 9897/10000 (98.97%)\n",
            "\n",
            "Adjusting learning rate of group 0 to 4.0000e-03.\n"
          ]
        }
      ],
      "source": [
        "# variable for model and training\n",
        "num_epochs = 15\n",
        "optimizer = optim.SGD(model.parameters(), lr=0.04, momentum=0.9)\n",
        "\n",
        "scheduler = optim.lr_scheduler.StepLR(optimizer, step_size=10, gamma=0.1, verbose=True)\n",
        "\n",
        "for epoch in range(1, num_epochs+1):\n",
        "  print(f'Epoch {epoch}')\n",
        "  model_train.train(model, device, train_loader, optimizer)\n",
        "  model_train.test(model, device, test_loader)\n",
        "  scheduler.step()"
      ]
    },
    {
      "cell_type": "code",
      "execution_count": 10,
      "metadata": {},
      "outputs": [],
      "source": [
        "# from ignite.engine import create_supervised_trainer, create_supervised_evaluator\n",
        "# from ignite.metrics import Accuracy, Loss\n",
        "# from ignite.handlers import FastaiLRFinder\n",
        "\n",
        "# trainer = create_supervised_trainer(model, optimizer, criterion, device=device)\n",
        "\n",
        "# trainer.run(train_loader, max_epochs=3)"
      ]
    },
    {
      "attachments": {},
      "cell_type": "markdown",
      "metadata": {
        "id": "iZLDecJ7i3qK"
      },
      "source": [
        "Plot the Loss/Accuracy for Train/Test dataset"
      ]
    },
    {
      "cell_type": "code",
      "execution_count": 11,
      "metadata": {
        "colab": {
          "base_uri": "https://localhost:8080/",
          "height": 460
        },
        "id": "Wu0l7dli4eC9",
        "outputId": "a29d359d-a86f-4809-80fc-6fa263dcb74d"
      },
      "outputs": [
        {
          "data": {
            "image/png": "[encoded data removed]",
            "text/plain": [
              "<Figure size 1500x1000 with 4 Axes>"
            ]
          },
          "metadata": {},
          "output_type": "display_data"
        }
      ],
      "source": [
        "# CODE MOVED TO UTILS.PY\n",
        "\n",
        "model_train.plot_loss_accuracy()"
      ]
    }
  ],
  "metadata": {
    "accelerator": "GPU",
    "colab": {
      "gpuType": "T4",
      "provenance": []
    },
    "gpuClass": "standard",
    "kernelspec": {
      "display_name": "Python 3",
      "name": "python3"
    },
    "language_info": {
      "codemirror_mode": {
        "name": "ipython",
        "version": 3
      },
      "file_extension": ".py",
      "mimetype": "text/x-python",
      "name": "python",
      "nbconvert_exporter": "python",
      "pygments_lexer": "ipython3",
      "version": "3.10.9"
    }
  },
  "nbformat": 4,
  "nbformat_minor": 0
}
