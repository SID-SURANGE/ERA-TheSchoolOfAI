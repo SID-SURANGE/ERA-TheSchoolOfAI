{
 "cells": [
  {
   "cell_type": "code",
   "execution_count": null,
   "metadata": {},
   "outputs": [],
   "source": []
  },
  {
   "attachments": {},
   "cell_type": "markdown",
   "metadata": {},
   "source": [
    "----------------------------------------------------------------\n",
    "        Layer (type)               Output Shape         Param #\n",
    "================================================================\n",
    "            Conv2d-1           [-1, 32, 28, 28]             320\n",
    "            Conv2d-2           [-1, 64, 28, 28]          18,496\n",
    "         MaxPool2d-3           [-1, 64, 14, 14]               0\n",
    "            Conv2d-4          [-1, 128, 14, 14]          73,856\n",
    "            Conv2d-5          [-1, 256, 14, 14]         295,168\n",
    "         MaxPool2d-6            [-1, 256, 7, 7]               0\n",
    "            Conv2d-7            [-1, 512, 5, 5]       1,180,160\n",
    "            Conv2d-8           [-1, 1024, 3, 3]       4,719,616\n",
    "            Conv2d-9             [-1, 10, 1, 1]          92,170\n",
    "================================================================\n",
    "Total params: 6,379,786\n",
    "Trainable params: 6,379,786\n",
    "Non-trainable params: 0\n",
    "\n",
    "\n",
    "Epoch 11\n",
    "Train: Loss=1.1066 Batch_id=234 Accuracy=60.17: 100%|██████████| 235/235 [00:17<00:00, 13.69it/s]\n",
    "Test set: Average loss: 0.9213, Accuracy: 6045/10000 (60.45%)\n",
    "\n",
    "Adjusting learning rate of group 0 to 1.0000e-03.\n",
    "Epoch 12\n",
    "Train: Loss=1.0933 Batch_id=234 Accuracy=60.20: 100%|██████████| 235/235 [00:16<00:00, 13.93it/s]\n",
    "Test set: Average loss: 0.9212, Accuracy: 6047/10000 (60.47%)\n",
    "\n",
    "Adjusting learning rate of group 0 to 1.0000e-03.\n",
    "Epoch 13\n",
    "Train: Loss=0.9862 Batch_id=234 Accuracy=60.20: 100%|██████████| 235/235 [00:17<00:00, 13.74it/s]\n",
    "Test set: Average loss: 0.9206, Accuracy: 6047/10000 (60.47%)\n",
    "\n",
    "Adjusting learning rate of group 0 to 1.0000e-03.\n",
    "Epoch 14\n",
    "Train: Loss=0.7483 Batch_id=234 Accuracy=60.22: 100%|██████████| 235/235 [00:17<00:00, 13.68it/s]\n",
    "Test set: Average loss: 0.9209, Accuracy: 6047/10000 (60.47%)\n",
    "\n",
    "Adjusting learning rate of group 0 to 1.0000e-03.\n",
    "Epoch 15\n",
    "Train: Loss=0.9465 Batch_id=234 Accuracy=60.23: 100%|██████████| 235/235 [00:17<00:00, 13.80it/s]\n",
    "Test set: Average loss: 0.9207, Accuracy: 6045/10000 (60.45%)"
   ]
  },
  {
   "attachments": {},
   "cell_type": "markdown",
   "metadata": {},
   "source": []
  }
 ],
 "metadata": {
  "language_info": {
   "name": "python"
  },
  "orig_nbformat": 4
 },
 "nbformat": 4,
 "nbformat_minor": 2
}
